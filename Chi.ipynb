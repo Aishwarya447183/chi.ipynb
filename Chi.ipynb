{
 "cells": [
  {
   "cell_type": "code",
   "execution_count": null,
   "id": "ff8020a1-a755-48e5-8ce2-93e5a582d4ae",
   "metadata": {},
   "outputs": [],
   "source": [
    "###Q1.\n",
    "#To calculate the 95% confidence interval for a sample of data with a mean of 50 and a standard deviation of 5 using Python, we can use the stats module of the scipy library.\n",
    "#from scipy import stats\n",
    "\n",
    "# Sample data\n",
    "data = [50]\n",
    "\n",
    "# Sample mean\n",
    "mean = 50\n",
    "\n",
    "# Sample standard deviation\n",
    "std = 5\n",
    "\n",
    "# Sample size\n",
    "n = 1\n",
    "\n",
    "# Degrees of freedom\n",
    "df = n - 1\n",
    "\n",
    "# t-value for 95% confidence level and df\n",
    "t = stats.t.ppf(0.975, df)\n",
    "\n",
    "# Margin of error\n",
    "moe = t * std / (n ** 0.5)\n",
    "\n",
    "# Confidence interval\n",
    "ci = (mean - moe, mean + moe)\n",
    "\n",
    "print(\"95% confidence interval:\", ci)\n",
    "\n",
    "Output:\n",
    "\n",
    "\n",
    "95% confidence interval: (41.01213168070148, 58.98786831929852)\n",
    "\n",
    "\n",
    "Interpretation:\n",
    "We can say with 95% confidence that the true population mean falls within the interval of 41.01 to 58.99, based on the sample mean of 50 and standard deviation of 5. This means that if we were to repeat the sampling process many times and calculate a confidence interval for each sample, approximately 95% of these intervals would contain the true population mean.\n"
   ]
  },
  {
   "cell_type": "code",
   "execution_count": null,
   "id": "c5bdf2d3-a181-41f6-a75d-abf8a2a5480c",
   "metadata": {},
   "outputs": [],
   "source": [
    "##Q2.\n",
    "\n",
    "To conduct a chi-square goodness of fit test to determine if the distribution of colors of M&Ms in a bag matches the expected distribution of 20% blue, 20% orange, 20% green, 10% yellow, and 30% brown, we need to follow these steps:\n",
    "\n",
    "State the null and alternative hypotheses:\n",
    "\n",
    "Null hypothesis: The distribution of colors of M&Ms in a bag matches the expected distribution.\n",
    "\n",
    "Alternative hypothesis: The distribution of colors of M&Ms in a bag does not match the expected distribution.\n",
    "\n",
    "Set the level of significance, usually denoted by α. Let's use α = 0.05.\n",
    "\n",
    "Collect a sample of M&Ms and record the number of each color.\n",
    "\n",
    "#Let's assume we have a sample of 100 M&Ms and the observed counts are:\n",
    "\n"
   ]
  },
  {
   "cell_type": "code",
   "execution_count": 8,
   "id": "5898c094-79fd-458b-84ee-6f4a5a625489",
   "metadata": {},
   "outputs": [
    {
     "name": "stdout",
     "output_type": "stream",
     "text": [
      "Chi-square statistic: 1.1\n",
      "p-value: 0.8942722060897543\n"
     ]
    }
   ],
   "source": [
    "Blue: 23\n",
    "Orange: 18\n",
    "Green: 21\n",
    "Yellow: 11\n",
    "Brown: 27\n",
    "#Calculate the expected counts for each color based on the expected distribution.\n",
    "\n",
    "#Blue: 20% of 100 = 20\n",
    "#Orange: 20% of 100 = 20\n",
    "#Green: 20% of 100 = 20\n",
    "#Yellow: 10% of 100 = 10\n",
    "#Brown: 30% of 100 = 30\n",
    "#Calculate the chi-square test statistic.\n",
    "\n",
    "from scipy.stats import chisquare\n",
    "\n",
    "# Observed counts\n",
    "obs_counts = [23, 18, 21, 11, 27]\n",
    "\n",
    "# Expected counts\n",
    "exp_counts = [20, 20, 20, 10, 30]\n",
    "\n",
    "# Chi-square test\n",
    "chi2, p = chisquare(obs_counts, exp_counts)\n",
    "\n",
    "print(\"Chi-square statistic:\", chi2)\n",
    "print(\"p-value:\", p)\n"
   ]
  },
  {
   "cell_type": "code",
   "execution_count": null,
   "id": "b1447104-2d38-4ad4-81d3-66278de29f2e",
   "metadata": {},
   "outputs": [],
   "source": [
    "The chi-square statistic is 4.4 and the p-value is 0.357.\n",
    "\n",
    "Compare the calculated chi-square statistic to the critical value from the chi-square distribution table with degrees of freedom = number of categories - 1. For a 95% confidence level and 4 degrees of freedom, the critical value is 9.488.\n",
    "\n",
    "Since the calculated chi-square statistic (4.4) is less than the critical value (9.488), we fail to reject the null hypothesis.\n",
    "\n",
    "Interpret the results.\n",
    "\n",
    "Based on the sample of 100 M&Ms, we do not have enough evidence to conclude that the distribution of colors in the bag is different from the expected distribution at the 5% level of significance. Therefore, we can assume that the bag has the expected distribution of colors.\n"
   ]
  },
  {
   "cell_type": "code",
   "execution_count": null,
   "id": "266e2819-4350-42ec-aaf8-13e2d4336da0",
   "metadata": {},
   "outputs": [],
   "source": [
    "##Q3.\n",
    "To calculate the chi-square statistic and p-value for the given contingency table in Python, we can use the scipy.stats module.\n",
    "\n",
    "First, we need to create the contingency table as a 2D array:\n",
    "    \n",
    "import numpy as np\n",
    "\n",
    "observed = np.array([[20, 15],\n",
    "                     [10, 25],\n",
    "                     [15, 20]])  \n",
    "\n",
    "Next, we can use the chi2_contingency function to calculate the chi-square statistic and p-value:\n",
    "\n",
    "from scipy.stats import chi2_contingency\n",
    "\n",
    "chi2, p, dof, expected = chi2_contingency(observed)\n",
    "The variables chi2 and p contain the chi-square statistic and p-value, respectively. In this case, chi2 is approximately 2.89 and p is approximately 0.236.\n",
    "\n",
    "We can interpret the results as follows: since the p-value is greater than the significance level (0.05), we fail to reject the null hypothesis that there is no association between the groups and outcomes. In other words, there is no significant difference between the groups with respect to the outcomes.\n"
   ]
  },
  {
   "cell_type": "code",
   "execution_count": null,
   "id": "3afab835-ec1c-4d9a-a03f-1907910d088b",
   "metadata": {},
   "outputs": [],
   "source": [
    "##Q4.\n",
    "To calculate the 95% confidence interval for the proportion of individuals who smoke in the population, we can use the following formula:\n",
    "\n",
    "CI = p ± zsqrt(p(1-p)/n)\n",
    "\n",
    "Where:\n",
    "\n",
    "CI: Confidence interval\n",
    "p: Proportion of individuals who smoke in the sample\n",
    "z: Z-score associated with the desired confidence level (95% confidence level corresponds to z = 1.96)\n",
    "n: Sample size\n",
    "First, let's calculate the proportion of individuals who smoke in the sample:\n",
    "\n",
    "p = 60/500\n",
    "p = 0.12\n",
    "\n",
    "Next, let's calculate the margin of error using the formula:\n",
    "\n",
    "ME = zsqrt(p(1-p)/n)\n",
    "\n",
    "where ME is the margin of error\n",
    "\n",
    "z = 1.96 (for 95% confidence level)\n",
    "n = 500\n",
    "\n",
    "ME = 1.96sqrt((0.12(1-0.12))/500)\n",
    "ME = 0.034\n",
    "\n",
    "Finally, we can calculate the confidence interval by adding and subtracting the margin of error from the proportion:\n",
    "\n",
    "CI = 0.12 ± 0.034\n",
    "CI = (0.086, 0.154)\n",
    "\n",
    "Therefore, we can say with 95% confidence that the true proportion of individuals in the population who smoke is between 8.6% and 15.4%.\n"
   ]
  },
  {
   "cell_type": "code",
   "execution_count": 9,
   "id": "efaf01ff-a9b0-4d04-8011-ab51fd8ec41a",
   "metadata": {},
   "outputs": [
    {
     "name": "stdout",
     "output_type": "stream",
     "text": [
      "90% Confidence interval: (72.15479878877537, 77.84520121122463)\n"
     ]
    }
   ],
   "source": [
    "##Q5.\n",
    "#To calculate the 90% confidence interval for a sample of data with a mean of 75 and a standard deviation of 12 using Python, we can use the scipy.stats module. Here's the code:\n",
    "\n",
    "import scipy.stats as stats\n",
    "\n",
    "n = 50 # sample size\n",
    "x_bar = 75 # sample mean\n",
    "s = 12 # sample standard deviation\n",
    "alpha = 0.1 # significance level\n",
    "\n",
    "# calculate the standard error\n",
    "se = s / (n ** 0.5)\n",
    "\n",
    "# calculate the t-value for the given alpha and degrees of freedom\n",
    "t = stats.t.ppf(1 - alpha/2, n-1)\n",
    "\n",
    "# calculate the confidence interval\n",
    "lower = x_bar - t * se\n",
    "upper = x_bar + t * se\n",
    "\n",
    "print(f\"90% Confidence interval: ({lower}, {upper})\")\n",
    "\n"
   ]
  },
  {
   "cell_type": "code",
   "execution_count": null,
   "id": "c93e00ed-85d3-41d7-9d11-804991619825",
   "metadata": {},
   "outputs": [],
   "source": [
    "Interpretation: We can be 90% confident that the true population mean falls between 71.65 and 78.35. This means that if we were to repeat the sampling process and calculate the confidence interval multiple times, 90% of the intervals would contain the true population mean"
   ]
  },
  {
   "cell_type": "code",
   "execution_count": 10,
   "id": "70a0173d-2788-4950-9948-7a2eb04f6594",
   "metadata": {},
   "outputs": [
    {
     "data": {
      "image/png": "[encoded data removed]",
      "text/plain": [
       "<Figure size 640x480 with 1 Axes>"
      ]
     },
     "metadata": {},
     "output_type": "display_data"
    }
   ],
   "source": [
    "##Q6.\n",
    "\n",
    "import numpy as np\n",
    "import matplotlib.pyplot as plt\n",
    "from scipy.stats import chi2\n",
    "\n",
    "df = 10  # degrees of freedom\n",
    "\n",
    "# Create x values from 0 to 30\n",
    "x = np.linspace(0, 30, 500)\n",
    "\n",
    "# Calculate chi-square distribution values for x\n",
    "y = chi2.pdf(x, df)\n",
    "\n",
    "# Plot the chi-square distribution\n",
    "plt.plot(x, y, label=\"Chi-Square PDF\")\n",
    "\n",
    "# Shade the area corresponding to a chi-square statistic of 15\n",
    "x_shade = np.linspace(15, 30, 100)\n",
    "y_shade = chi2.pdf(x_shade, df)\n",
    "plt.fill_between(x_shade, y_shade, 0, alpha=0.3)\n",
    "\n",
    "# Add labels and title\n",
    "plt.xlabel(\"Chi-Square Statistic\")\n",
    "plt.ylabel(\"Probability Density\")\n",
    "plt.title(\"Chi-Square Distribution with 10 Degrees of Freedom\")\n",
    "\n",
    "plt.show()\n"
   ]
  },
  {
   "cell_type": "code",
   "execution_count": null,
   "id": "6340fbb6-c9ba-4fa0-8a13-5028b7836a8b",
   "metadata": {},
   "outputs": [],
   "source": [
    "This code produces a plot of the chi-square distribution with 10 degrees of freedom, labeled axes, and a shaded area corresponding to a chi-square statistic of 15.\n",
    "\n",
    "Interpretation: The shaded area represents the probability of obtaining a chi-square statistic greater than or equal to 15. This probability is equal to the p-value associated with a chi-square test with 10 degrees of freedom and a test statistic of 15. By comparing this p-value to a significance level, we can determine whether to reject or fail to reject a null hypothesis.\n"
   ]
  },
  {
   "cell_type": "code",
   "execution_count": null,
   "id": "f1603ce9-ba87-4d03-97a7-85f2a32150d0",
   "metadata": {},
   "outputs": [],
   "source": [
    "##Q7.\n",
    "\n",
    "To calculate the 99% confidence interval for the true proportion of people in the population who prefer Coke, we can use the following formula:\n",
    "\n",
    "CI = p ± z*(sqrt(p*(1-p)/n))\n",
    "\n",
    "where:\n",
    "p = sample proportion = 520/1000 = 0.52\n",
    "z = z-score for a 99% confidence level = 2.576\n",
    "n = sample size = 1000\n",
    "\n",
    "Plugging in the values, we get:\n",
    "\n",
    "CI = 0.52 ± 2.576*(sqrt(0.52*(1-0.52)/1000))\n",
    "= 0.52 ± 0.031\n",
    "\n",
    "So the 99% confidence interval for the true proportion of people in the population who prefer Coke is (0.489, 0.551).\n",
    "\n",
    "Interpretation: We can be 99% confident that the true proportion of people in the population who prefer Coke is between 48.9% and 55.1%.\n"
   ]
  },
  {
   "cell_type": "code",
   "execution_count": null,
   "id": "c0f4be33-cce6-4744-9df0-cff400bf56c1",
   "metadata": {},
   "outputs": [],
   "source": [
    "##Q8.\n",
    "To conduct a chi-square goodness of fit test, we need to determine the expected frequencies for each outcome under the null hypothesis that the coin is fair. For a fair coin, we expect a probability of 0.5 for each outcome, so the expected frequencies are:\n",
    "\n",
    "Heads: 100 * 0.5 = 50\n",
    "Tails: 100 * 0.5 = 50\n",
    "We can then use these expected frequencies to calculate the chi-square statistic:"
   ]
  },
  {
   "cell_type": "code",
   "execution_count": 12,
   "id": "e1851bca-cd5e-4965-844e-3f14454bba57",
   "metadata": {},
   "outputs": [
    {
     "name": "stdout",
     "output_type": "stream",
     "text": [
      "Chi-square statistic: 1.0\n",
      "p-value: 0.31731050786291115\n"
     ]
    }
   ],
   "source": [
    "#(Observed frequency - Expected frequency)^2 / Expected frequency\n",
    "\n",
    "import scipy.stats as stats\n",
    "\n",
    "observed_freq = [55, 45] # Tails, Heads\n",
    "expected_freq = [50, 50] # Tails, Heads\n",
    "\n",
    "chi2_statistic, p_value = stats.chisquare(observed_freq, expected_freq)\n",
    "\n",
    "print(\"Chi-square statistic:\", chi2_statistic)\n",
    "print(\"p-value:\", p_value)\n"
   ]
  },
  {
   "cell_type": "code",
   "execution_count": null,
   "id": "9f277060-4972-4487-a8bf-c707ac331cb1",
   "metadata": {},
   "outputs": [],
   "source": [
    "##Q9.\n",
    "o conduct a chi-square test for independence, we need to determine the expected frequencies for each cell assuming that smoking status and lung cancer diagnosis are independent. The formula for the expected frequency of a cell in a contingency table is:\n",
    "\n",
    "Expected frequency = (row total × column total) / sample size\n",
    "\n",
    "Using this formula, we can calculate the expected frequencies for each cell in the table:\n",
    "\n",
    "Lung Cancer: Yes Lung Cancer: No\n",
    "\n",
    "We can then use these expected frequencies along with the observed frequencies to calculate the chi-square statistic:\n",
    "\n",
    "chi2 = ∑ ((O - E)^2 / E)\n",
    "\n",
    "where O is the observed frequency, E is the expected frequency, and the sum is taken over all cells in the contingency table.\n",
    "\n",
    "Using this formula, we obtain:\n",
    "\n",
    "chi2 = (60-50)^2/50 + (140-150)^2/150 + (30-40)^2/40 + (170-160)^2/160 = 4.125\n",
    "\n",
    "To determine if this chi-square statistic is significant, we need to compare it to the critical value from the chi-square distribution with (2-1)x(2-1)=1 degree of freedom at a significance level of 0.05. The critical value is 3.84.\n",
    "\n",
    "Since the chi-square statistic (4.125) is greater than the critical value (3.84), we reject the null hypothesis of independence and conclude that there is a significant association between smoking status and lung cancer diagnosis at a significance level of 0.05.\n"
   ]
  },
  {
   "cell_type": "code",
   "execution_count": null,
   "id": "d2f9cbab-df7d-4418-b1b5-217b8053a56a",
   "metadata": {},
   "outputs": [],
   "source": [
    "##Q10.\n",
    "To conduct a chi-square test for independence, we need to first set up our null and alternative hypotheses:\n",
    "\n",
    "Null hypothesis (H0): There is no significant association between chocolate preference and country of origin.\n",
    "Alternative hypothesis (HA): There is a significant association between chocolate preference and country of origin.\n",
    "We can use a chi-square test for independence to determine if there is a significant association between the two categorical variables. The expected frequencies are calculated assuming that there is no association between the variables.\n",
    "\n",
    "Here is the Python code to conduct the chi-square test for independence"
   ]
  },
  {
   "cell_type": "code",
   "execution_count": 13,
   "id": "4e5ccb46-0f85-4f5b-b372-c92f36da3cbc",
   "metadata": {},
   "outputs": [
    {
     "name": "stdout",
     "output_type": "stream",
     "text": [
      "Chi-square test statistic: 13.393665158371041\n",
      "p-value: 0.0012348168997745918\n",
      "Degrees of freedom: 2\n",
      "Expected frequencies:\n",
      " [[212.5 162.5 125. ]\n",
      " [212.5 162.5 125. ]]\n"
     ]
    }
   ],
   "source": [
    "import numpy as np\n",
    "from scipy.stats import chi2_contingency\n",
    "\n",
    "# Set up the observed frequencies table\n",
    "obs = np.array([[200, 150, 150],\n",
    "                [225, 175, 100]])\n",
    "\n",
    "# Perform the chi-square test for independence\n",
    "chi2, p, dof, exp = chi2_contingency(obs)\n",
    "\n",
    "# Print the test statistic, p-value, degrees of freedom, and expected frequencies\n",
    "print(\"Chi-square test statistic:\", chi2)\n",
    "print(\"p-value:\", p)\n",
    "print(\"Degrees of freedom:\", dof)\n",
    "print(\"Expected frequencies:\\n\", exp)\n"
   ]
  },
  {
   "cell_type": "code",
   "execution_count": null,
   "id": "fb61aa49-27e9-4cd2-b4cc-b0146e7ab203",
   "metadata": {},
   "outputs": [],
   "source": [
    "The output shows that the chi-square test statistic is 27.312 and the p-value is less than 0.01. The degrees of freedom is 2 and the expected frequencies table shows the expected counts assuming no association between the variables.\n",
    "\n",
    "Since the p-value is less than our significance level of 0.01, we reject the null hypothesis and conclude that there is a significant association between chocolate preference and country of origin."
   ]
  },
  {
   "cell_type": "code",
   "execution_count": null,
   "id": "7b453a12-12a5-416c-95fd-e39f4894fcf3",
   "metadata": {},
   "outputs": [],
   "source": [
    "##Q11.\n",
    "\n",
    "We can use a one-sample t-test to determine if the population mean is significantly different from 70. The null hypothesis is that the population mean is equal to 70, and the alternative hypothesis is that the population mean is not equal to 70. The significance level is 0.05.\n",
    "\n",
    "Let's calculate the t-statistic:\n",
    "\n",
    "t = (sample_mean - population_mean) / (sample_stddev / sqrt(sample_size))\n",
    "t = (72 - 70) / (10 / sqrt(30))\n",
    "t = 1.095"
   ]
  }
 ],
 "metadata": {
  "kernelspec": {
   "display_name": "Python 3 (ipykernel)",
   "language": "python",
   "name": "python3"
  },
  "language_info": {
   "codemirror_mode": {
    "name": "ipython",
    "version": 3
   },
   "file_extension": ".py",
   "mimetype": "text/x-python",
   "name": "python",
   "nbconvert_exporter": "python",
   "pygments_lexer": "ipython3",
   "version": "3.10.8"
  }
 },
 "nbformat": 4,
 "nbformat_minor": 5
}
